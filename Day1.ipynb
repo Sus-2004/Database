{
 "cells": [
  {
   "cell_type": "code",
   "execution_count": 3,
   "id": "b5311527-8840-458a-aeb5-65c33a2e4c0e",
   "metadata": {},
   "outputs": [
    {
     "name": "stdout",
     "output_type": "stream",
     "text": [
      "Suganya\n"
     ]
    }
   ],
   "source": [
    "print('Suganya')"
   ]
  },
  {
   "cell_type": "code",
   "execution_count": null,
   "id": "61f24f26-6ec9-4361-9024-d83941d6ba39",
   "metadata": {},
   "outputs": [],
   "source": []
  }
 ],
 "metadata": {
  "kernelspec": {
   "display_name": "Python 3 (ipykernel)",
   "language": "python",
   "name": "python3"
  },
  "language_info": {
   "codemirror_mode": {
    "name": "ipython",
    "version": 3
   },
   "file_extension": ".py",
   "mimetype": "text/x-python",
   "name": "python",
   "nbconvert_exporter": "python",
   "pygments_lexer": "ipython3",
   "version": "3.12.4"
  }
 },
 "nbformat": 4,
 "nbformat_minor": 5
}
